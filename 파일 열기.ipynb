{
 "cells": [
  {
   "cell_type": "code",
   "execution_count": 29,
   "id": "e39b4e81-ffd2-45dc-9f09-254e01f45b96",
   "metadata": {},
   "outputs": [
    {
     "data": {
      "text/html": [
       "<div>\n",
       "<style scoped>\n",
       "    .dataframe tbody tr th:only-of-type {\n",
       "        vertical-align: middle;\n",
       "    }\n",
       "\n",
       "    .dataframe tbody tr th {\n",
       "        vertical-align: top;\n",
       "    }\n",
       "\n",
       "    .dataframe thead th {\n",
       "        text-align: right;\n",
       "    }\n",
       "</style>\n",
       "<table border=\"1\" class=\"dataframe\">\n",
       "  <thead>\n",
       "    <tr style=\"text-align: right;\">\n",
       "      <th></th>\n",
       "      <th>NO</th>\n",
       "      <th>시군구</th>\n",
       "      <th>번지</th>\n",
       "      <th>본번</th>\n",
       "      <th>부번</th>\n",
       "      <th>단지명</th>\n",
       "      <th>전용면적(㎡)</th>\n",
       "      <th>계약년월</th>\n",
       "      <th>계약일</th>\n",
       "      <th>거래금액(만원)</th>\n",
       "      <th>동</th>\n",
       "      <th>층</th>\n",
       "      <th>매수자</th>\n",
       "      <th>매도자</th>\n",
       "      <th>건축년도</th>\n",
       "      <th>도로명</th>\n",
       "      <th>해제사유발생일</th>\n",
       "      <th>거래유형</th>\n",
       "      <th>중개사소재지</th>\n",
       "      <th>등기일자</th>\n",
       "    </tr>\n",
       "  </thead>\n",
       "  <tbody>\n",
       "    <tr>\n",
       "      <th>2100</th>\n",
       "      <td>2101</td>\n",
       "      <td>서울특별시 강서구 등촌동</td>\n",
       "      <td>632-2</td>\n",
       "      <td>632</td>\n",
       "      <td>2</td>\n",
       "      <td>태영</td>\n",
       "      <td>59.97</td>\n",
       "      <td>201001</td>\n",
       "      <td>5</td>\n",
       "      <td>27,100</td>\n",
       "      <td>-</td>\n",
       "      <td>3</td>\n",
       "      <td>-</td>\n",
       "      <td>-</td>\n",
       "      <td>1998</td>\n",
       "      <td>양천로 590</td>\n",
       "      <td>-</td>\n",
       "      <td>-</td>\n",
       "      <td>-</td>\n",
       "      <td>-</td>\n",
       "    </tr>\n",
       "    <tr>\n",
       "      <th>2101</th>\n",
       "      <td>2102</td>\n",
       "      <td>서울특별시 강서구 등촌동</td>\n",
       "      <td>561-1</td>\n",
       "      <td>561</td>\n",
       "      <td>1</td>\n",
       "      <td>대림e편한세상</td>\n",
       "      <td>96.73</td>\n",
       "      <td>201001</td>\n",
       "      <td>4</td>\n",
       "      <td>53,000</td>\n",
       "      <td>-</td>\n",
       "      <td>14</td>\n",
       "      <td>-</td>\n",
       "      <td>-</td>\n",
       "      <td>2002</td>\n",
       "      <td>등촌로 137</td>\n",
       "      <td>-</td>\n",
       "      <td>-</td>\n",
       "      <td>-</td>\n",
       "      <td>-</td>\n",
       "    </tr>\n",
       "    <tr>\n",
       "      <th>2102</th>\n",
       "      <td>2103</td>\n",
       "      <td>서울특별시 강서구 가양동</td>\n",
       "      <td>192-9</td>\n",
       "      <td>192</td>\n",
       "      <td>9</td>\n",
       "      <td>한림타운</td>\n",
       "      <td>84.60</td>\n",
       "      <td>201001</td>\n",
       "      <td>3</td>\n",
       "      <td>26,500</td>\n",
       "      <td>-</td>\n",
       "      <td>3</td>\n",
       "      <td>-</td>\n",
       "      <td>-</td>\n",
       "      <td>2003</td>\n",
       "      <td>강서로 511</td>\n",
       "      <td>-</td>\n",
       "      <td>-</td>\n",
       "      <td>-</td>\n",
       "      <td>-</td>\n",
       "    </tr>\n",
       "    <tr>\n",
       "      <th>2103</th>\n",
       "      <td>2104</td>\n",
       "      <td>서울특별시 강서구 화곡동</td>\n",
       "      <td>361-1</td>\n",
       "      <td>361</td>\n",
       "      <td>1</td>\n",
       "      <td>대림e편한세상</td>\n",
       "      <td>84.84</td>\n",
       "      <td>201001</td>\n",
       "      <td>2</td>\n",
       "      <td>29,500</td>\n",
       "      <td>-</td>\n",
       "      <td>1</td>\n",
       "      <td>-</td>\n",
       "      <td>-</td>\n",
       "      <td>1992</td>\n",
       "      <td>월정로 160</td>\n",
       "      <td>-</td>\n",
       "      <td>-</td>\n",
       "      <td>-</td>\n",
       "      <td>-</td>\n",
       "    </tr>\n",
       "    <tr>\n",
       "      <th>2104</th>\n",
       "      <td>2105</td>\n",
       "      <td>서울특별시 강서구 가양동</td>\n",
       "      <td>448-1</td>\n",
       "      <td>448</td>\n",
       "      <td>1</td>\n",
       "      <td>가양강나루현대</td>\n",
       "      <td>59.76</td>\n",
       "      <td>201001</td>\n",
       "      <td>1</td>\n",
       "      <td>36,300</td>\n",
       "      <td>-</td>\n",
       "      <td>13</td>\n",
       "      <td>-</td>\n",
       "      <td>-</td>\n",
       "      <td>1999</td>\n",
       "      <td>양천로 507</td>\n",
       "      <td>-</td>\n",
       "      <td>-</td>\n",
       "      <td>-</td>\n",
       "      <td>-</td>\n",
       "    </tr>\n",
       "  </tbody>\n",
       "</table>\n",
       "</div>"
      ],
      "text/plain": [
       "        NO            시군구     번지   본번  부번      단지명  전용면적(㎡)    계약년월  계약일  \\\n",
       "2100  2101  서울특별시 강서구 등촌동  632-2  632   2       태영    59.97  201001    5   \n",
       "2101  2102  서울특별시 강서구 등촌동  561-1  561   1  대림e편한세상    96.73  201001    4   \n",
       "2102  2103  서울특별시 강서구 가양동  192-9  192   9     한림타운    84.60  201001    3   \n",
       "2103  2104  서울특별시 강서구 화곡동  361-1  361   1  대림e편한세상    84.84  201001    2   \n",
       "2104  2105  서울특별시 강서구 가양동  448-1  448   1  가양강나루현대    59.76  201001    1   \n",
       "\n",
       "     거래금액(만원)  동   층 매수자 매도자  건축년도      도로명 해제사유발생일 거래유형 중개사소재지 등기일자  \n",
       "2100   27,100  -   3   -   -  1998  양천로 590       -    -      -    -  \n",
       "2101   53,000  -  14   -   -  2002  등촌로 137       -    -      -    -  \n",
       "2102   26,500  -   3   -   -  2003  강서로 511       -    -      -    -  \n",
       "2103   29,500  -   1   -   -  1992  월정로 160       -    -      -    -  \n",
       "2104   36,300  -  13   -   -  1999  양천로 507       -    -      -    -  "
      ]
     },
     "execution_count": 29,
     "metadata": {},
     "output_type": "execute_result"
    }
   ],
   "source": [
    "import pandas as pd\n",
    "\n",
    "df = pd.read_csv('2010_아파트(매매)_실거래가.csv',encoding = 'cp949')\n",
    "\n",
    "df.tail()"
   ]
  },
  {
   "cell_type": "markdown",
   "id": "9ebaf354",
   "metadata": {},
   "source": [
    "# 주소 칼럼 생성"
   ]
  },
  {
   "cell_type": "code",
   "execution_count": 35,
   "id": "f477c6f2",
   "metadata": {},
   "outputs": [
    {
     "name": "stdout",
     "output_type": "stream",
     "text": [
      "   NO            시군구     번지    본번  부번          단지명  전용면적(㎡)    계약년월  계약일  \\\n",
      "0   1  서울특별시 강서구 등촌동    676   676   0         태진아름    59.94  201512   31   \n",
      "1   2  서울특별시 강서구 화곡동  56-29    56  29  계명나동(56-29)    72.48  201512   31   \n",
      "2   3  서울특별시 강서구 가양동   1475  1475   0           강변    49.50  201512   31   \n",
      "3   4  서울특별시 강서구 가양동   1475  1475   0           강변    34.44  201512   31   \n",
      "4   5  서울특별시 강서구 가양동  448-9   448   9        빛고을우방    84.90  201512   31   \n",
      "\n",
      "  거래금액(만원)  ...   층  매수자 매도자  건축년도         도로명 해제사유발생일 거래유형 중개사소재지 등기일자  \\\n",
      "0   32,000  ...   9    -   -  1995   등촌로53길 39       -    -      -    -   \n",
      "1   22,000  ...   6    -   -  2002  초록마을로 75-3       -    -      -    -   \n",
      "2   27,450  ...  15    -   -  1992     허준로 139       -    -      -    -   \n",
      "3   21,000  ...   5    -   -  1992     허준로 139       -    -      -    -   \n",
      "4   40,500  ...   4    -   -  1999     양천로 521       -    -      -    -   \n",
      "\n",
      "                    주소  \n",
      "0    서울특별시 강서구 등촌동 676  \n",
      "1  서울특별시 강서구 화곡동 56-29  \n",
      "2   서울특별시 강서구 가양동 1475  \n",
      "3   서울특별시 강서구 가양동 1475  \n",
      "4  서울특별시 강서구 가양동 448-9  \n",
      "\n",
      "[5 rows x 21 columns]\n"
     ]
    }
   ],
   "source": [
    "import pandas as pd\n",
    "\n",
    "df = pd.read_csv('2015_아파트(매매)_실거래가.csv', encoding = 'cp949')\n",
    "\n",
    "# '주소' 칼럼 생성: 시군구 + 번지 + 본번 + 부번 조합\n",
    "df['주소'] = df['시군구'] + ' ' + df['번지'].astype(str)\n",
    "\n",
    "# 결과 확인\n",
    "print(df.head())\n",
    "\n",
    "# 새로운 데이터프레임을 CSV로 저장 (필요 시)\n",
    "output_file_name = \"2015_아파트(매매)_실거래가_주소포함.csv\"\n",
    "df.to_csv(output_file_name, index=False)\n"
   ]
  },
  {
   "cell_type": "code",
   "execution_count": 26,
   "id": "fd6ce513",
   "metadata": {},
   "outputs": [
    {
     "data": {
      "text/html": [
       "<div>\n",
       "<style scoped>\n",
       "    .dataframe tbody tr th:only-of-type {\n",
       "        vertical-align: middle;\n",
       "    }\n",
       "\n",
       "    .dataframe tbody tr th {\n",
       "        vertical-align: top;\n",
       "    }\n",
       "\n",
       "    .dataframe thead th {\n",
       "        text-align: right;\n",
       "    }\n",
       "</style>\n",
       "<table border=\"1\" class=\"dataframe\">\n",
       "  <thead>\n",
       "    <tr style=\"text-align: right;\">\n",
       "      <th></th>\n",
       "      <th>NO</th>\n",
       "      <th>시군구</th>\n",
       "      <th>번지</th>\n",
       "      <th>본번</th>\n",
       "      <th>부번</th>\n",
       "      <th>단지명</th>\n",
       "      <th>전용면적(㎡)</th>\n",
       "      <th>계약년월</th>\n",
       "      <th>계약일</th>\n",
       "      <th>거래금액(만원)</th>\n",
       "      <th>층</th>\n",
       "      <th>건축년도</th>\n",
       "      <th>도로명</th>\n",
       "      <th>주소</th>\n",
       "    </tr>\n",
       "  </thead>\n",
       "  <tbody>\n",
       "    <tr>\n",
       "      <th>0</th>\n",
       "      <td>1</td>\n",
       "      <td>서울특별시 강서구 내발산동</td>\n",
       "      <td>753</td>\n",
       "      <td>753</td>\n",
       "      <td>0</td>\n",
       "      <td>마곡수명산파크4단지</td>\n",
       "      <td>59.84</td>\n",
       "      <td>201012</td>\n",
       "      <td>31</td>\n",
       "      <td>36,800</td>\n",
       "      <td>8</td>\n",
       "      <td>2008</td>\n",
       "      <td>수명로1길 16</td>\n",
       "      <td>서울특별시 강서구 내발산동 753 753</td>\n",
       "    </tr>\n",
       "  </tbody>\n",
       "</table>\n",
       "</div>"
      ],
      "text/plain": [
       "   NO             시군구   번지   본번  부번         단지명  전용면적(㎡)    계약년월  계약일  \\\n",
       "0   1  서울특별시 강서구 내발산동  753  753   0  마곡수명산파크4단지    59.84  201012   31   \n",
       "\n",
       "  거래금액(만원)  층  건축년도       도로명                      주소  \n",
       "0   36,800  8  2008  수명로1길 16  서울특별시 강서구 내발산동 753 753  "
      ]
     },
     "execution_count": 26,
     "metadata": {},
     "output_type": "execute_result"
    }
   ],
   "source": [
    "import pandas as pd\n",
    "\n",
    "df = pd.read_csv('2010_아파트(매매)_실거래가_주소포함.csv')\n",
    "\n",
    "df.head(1)"
   ]
  },
  {
   "cell_type": "code",
   "execution_count": 16,
   "id": "3e4dff0f",
   "metadata": {},
   "outputs": [],
   "source": [
    "# 칼럼 제거"
   ]
  },
  {
   "cell_type": "code",
   "execution_count": 41,
   "id": "dd4ca3f4",
   "metadata": {},
   "outputs": [
    {
     "name": "stdout",
     "output_type": "stream",
     "text": [
      "   NO            시군구     번지    본번  부번          단지명  전용면적(㎡)    계약년월  계약일  \\\n",
      "0   1  서울특별시 강서구 등촌동    676   676   0         태진아름    59.94  201512   31   \n",
      "1   2  서울특별시 강서구 화곡동  56-29    56  29  계명나동(56-29)    72.48  201512   31   \n",
      "2   3  서울특별시 강서구 가양동   1475  1475   0           강변    49.50  201512   31   \n",
      "3   4  서울특별시 강서구 가양동   1475  1475   0           강변    34.44  201512   31   \n",
      "4   5  서울특별시 강서구 가양동  448-9   448   9        빛고을우방    84.90  201512   31   \n",
      "\n",
      "  거래금액(만원)   층  건축년도         도로명                   주소  \n",
      "0   32,000   9  1995   등촌로53길 39    서울특별시 강서구 등촌동 676  \n",
      "1   22,000   6  2002  초록마을로 75-3  서울특별시 강서구 화곡동 56-29  \n",
      "2   27,450  15  1992     허준로 139   서울특별시 강서구 가양동 1475  \n",
      "3   21,000   5  1992     허준로 139   서울특별시 강서구 가양동 1475  \n",
      "4   40,500   4  1999     양천로 521  서울특별시 강서구 가양동 448-9  \n"
     ]
    }
   ],
   "source": [
    "import pandas as pd\n",
    "\n",
    "# CSV 파일 읽기\n",
    "data_file = \"2015_아파트(매매)_실거래가_주소포함.csv\"\n",
    "df = pd.read_csv(data_file)\n",
    "\n",
    "# 지정된 칼럼 삭제\n",
    "df = df.drop(columns=['동', '매수자', '매도자', '해제사유발생일', '거래유형', '중개사소재지', '등기일자'])\n",
    "\n",
    "# 변경 사항 확인\n",
    "print(df.head())\n",
    "\n",
    "# 수정된 데이터프레임을 새로운 CSV 파일로 저장\n",
    "output_file_name = \"2015_아파트(매매)_실거래가1.csv\"\n",
    "df.to_csv(output_file_name, index=False)\n"
   ]
  },
  {
   "cell_type": "code",
   "execution_count": 43,
   "id": "d38e5d05",
   "metadata": {},
   "outputs": [
    {
     "data": {
      "text/plain": [
       "<bound method DataFrame.info of         NO             시군구     번지    본번  부번          단지명   전용면적(㎡)    계약년월  \\\n",
       "0        1   서울특별시 강서구 등촌동    676   676   0         태진아름   59.9400  201512   \n",
       "1        2   서울특별시 강서구 화곡동  56-29    56  29  계명나동(56-29)   72.4800  201512   \n",
       "2        3   서울특별시 강서구 가양동   1475  1475   0           강변   49.5000  201512   \n",
       "3        4   서울특별시 강서구 가양동   1475  1475   0           강변   34.4400  201512   \n",
       "4        5   서울특별시 강서구 가양동  448-9   448   9        빛고을우방   84.9000  201512   \n",
       "...    ...             ...    ...   ...  ..          ...       ...     ...   \n",
       "8403  8404  서울특별시 강서구 내발산동    759   759   0   마곡수명산파크6단지   84.5300  201501   \n",
       "8404  8405   서울특별시 강서구 화곡동   1145  1145   0      우장산롯데캐슬   85.0000  201501   \n",
       "8405  8406   서울특별시 강서구 염창동    292   292   0           동아   59.9700  201501   \n",
       "8406  8407   서울특별시 강서구 방화동    839   839   0         방화그린   33.6000  201501   \n",
       "8407  8408   서울특별시 강서구 방화동    871   871   0         방신서광  100.6502  201501   \n",
       "\n",
       "      계약일 거래금액(만원)   층  건축년도         도로명                   주소  \n",
       "0      31   32,000   9  1995   등촌로53길 39    서울특별시 강서구 등촌동 676  \n",
       "1      31   22,000   6  2002  초록마을로 75-3  서울특별시 강서구 화곡동 56-29  \n",
       "2      31   27,450  15  1992     허준로 139   서울특별시 강서구 가양동 1475  \n",
       "3      31   21,000   5  1992     허준로 139   서울특별시 강서구 가양동 1475  \n",
       "4      31   40,500   4  1999     양천로 521  서울특별시 강서구 가양동 448-9  \n",
       "...   ...      ...  ..   ...         ...                  ...  \n",
       "8403    2   42,000   9  2007    수명로2길 63   서울특별시 강서구 내발산동 759  \n",
       "8404    2   45,300   3  2003    공항대로 382   서울특별시 강서구 화곡동 1145  \n",
       "8405    2   27,900   8  1998   양천로69길 58    서울특별시 강서구 염창동 292  \n",
       "8406    2   12,550  11  1993  방화대로48길 40    서울특별시 강서구 방화동 839  \n",
       "8407    2   34,000   7  2003   양천로14길 17    서울특별시 강서구 방화동 871  \n",
       "\n",
       "[8408 rows x 14 columns]>"
      ]
     },
     "execution_count": 43,
     "metadata": {},
     "output_type": "execute_result"
    }
   ],
   "source": [
    "df.info"
   ]
  },
  {
   "cell_type": "code",
   "execution_count": null,
   "id": "91298943",
   "metadata": {},
   "outputs": [
    {
     "data": {
      "text/plain": [
       "Index(['사업번호', '자치구', '법정동', '사업구분', '운영구분', '추진위원회/조합명', '대표지번', '진행단계', '상태',\n",
       "       '토지등 소유자 수', '정비구역명칭', '정비구역위치', '정비구역면적(㎡)', '건축연면적(㎡)', '용도지역',\n",
       "       '용도지구', '택지면적(㎡)', '도로면적(㎡)', '공원면적(㎡)', '녹지면적(㎡)', '공공공지면적(㎡)',\n",
       "       '학교면적(㎡)', '기타면적(㎡)', '주용도', '건폐율', '용적률', '높이(m)', '지상층수', '지하층수',\n",
       "       '분양세대총수', '60㎡이하', '60㎡초과~85㎡이하', '85㎡초과', '임대세대총수', '(임대)40㎡이하',\n",
       "       '(임대)40㎡초과~50㎡이하', '(임대)50㎡초과', '건축계획비고', '위치도', '조감도', '배치도',\n",
       "       '조합사무실 주소', '조합사무실 전화번호'],\n",
       "      dtype='object')"
      ]
     },
     "execution_count": 50,
     "metadata": {},
     "output_type": "execute_result"
    }
   ],
   "source": [
    "import pandas as pd\n",
    "\n",
    "df = pd.read_csv('서울시 재개발 재건축 정비사업 현황.csv', encoding = 'cp949')\n",
    "df.columns"
   ]
  },
  {
   "cell_type": "code",
   "execution_count": 52,
   "id": "e14f5b61",
   "metadata": {},
   "outputs": [
    {
     "name": "stdout",
     "output_type": "stream",
     "text": [
      "              사업번호  자치구  법정동        사업구분 운영구분                추진위원회/조합명  \\\n",
      "0  11440-100003003  마포구  아현동  재개발(도시정비형)   조합    마포로3구역제3지구 도시환경정비사업조합   \n",
      "1  11440-100005000  마포구  아현동  재개발(주택정비형)   조합  아현3구역 주택재개발정비사업 조합(뉴타운)   \n",
      "2  11440-100005004  마포구  염리동  재개발(주택정비형)   조합   염리제3구역주택재개발정비사업조합(뉴타운)   \n",
      "3  11500-100002011  강서구  마곡동         재건축   조합          긴등마을주택재건축정비사업조합   \n",
      "4  11530-900000006  구로구  개봉동         재건축   조합            개봉3 재건축정비사업조합   \n",
      "\n",
      "         대표지번    진행단계  상태  토지등 소유자 수  ... 지하층수 분양세대총수   60㎡이하  60㎡초과~85㎡이하  \\\n",
      "0  아현동 613-10  관리처분인가  운영        147  ...  4.0    239    88.0        151.0   \n",
      "1     아현동 635    조합해산  운영          0  ...  4.0   3209  1239.0       1455.0   \n",
      "2     염리동 507    조합해산  운영       1105  ...  3.0   1386   606.0        762.0   \n",
      "3   마곡동 725-1    준공인가  운영        246  ...  2.0    603   158.0        393.0   \n",
      "4  개봉동 454-14  조합설립인가  운영        687  ...  3.0   1705   323.0       1096.0   \n",
      "\n",
      "   85㎡초과 임대세대총수  (임대)40㎡이하  (임대)40㎡초과~50㎡이하  (임대)50㎡초과  건축계획비고  \n",
      "0    NaN      0        NaN              NaN        NaN     NaN  \n",
      "1  515.0    658      327.0            331.0        NaN     NaN  \n",
      "2   18.0    285      122.0            115.0       48.0     NaN  \n",
      "3   52.0     59        NaN              NaN       59.0     NaN  \n",
      "4  286.0     23        NaN              NaN       23.0     NaN  \n",
      "\n",
      "[5 rows x 38 columns]\n"
     ]
    }
   ],
   "source": [
    "import pandas as pd\n",
    "\n",
    "df = pd.read_csv('서울시 재개발 재건축 정비사업 현황.csv', encoding = 'cp949')\n",
    "\n",
    "# 지정된 칼럼 삭제\n",
    "df = df.drop(columns=['위치도', '조감도', '배치도', '조합사무실 주소', '조합사무실 전화번호'])\n",
    "\n",
    "# 변경 사항 확인\n",
    "print(df.head())\n",
    "\n",
    "# 수정된 데이터프레임을 새로운 CSV 파일로 저장\n",
    "output_file_name = \"서울시_재개발+재건축_정비사업_현황.csv\"\n",
    "df.to_csv(output_file_name, index=False)"
   ]
  },
  {
   "cell_type": "markdown",
   "id": "84f4b6e4",
   "metadata": {},
   "source": [
    "주택 정비형, 도시정비형으로 나눔"
   ]
  },
  {
   "cell_type": "code",
   "execution_count": 57,
   "id": "28c8a586",
   "metadata": {},
   "outputs": [
    {
     "name": "stdout",
     "output_type": "stream",
     "text": [
      "저장 완료: 재개발_도시정비형.csv\n",
      "저장 완료: 재개발_주택정비형.csv\n"
     ]
    }
   ],
   "source": [
    "import pandas as pd\n",
    "\n",
    "# CSV 파일 읽기\n",
    "file_name = '서울시_재개발+재건축_정비사업_현황.csv'\n",
    "data = pd.read_csv(file_name)\n",
    "\n",
    "# '사업 구분' 컬럼 확인\n",
    "if '사업구분' in data.columns:\n",
    "    # 재개발(도시정비형) 데이터 필터링 및 저장\n",
    "    urban_redevelopment = data[data['사업구분'] == '재개발(도시정비형)']\n",
    "    urban_redevelopment.to_csv('재개발_도시정비형.csv', index=False, encoding='utf-8-sig')\n",
    "    print(\"저장 완료: 재개발_도시정비형.csv\")\n",
    "\n",
    "    # 재개발(주택정비형) 데이터 필터링 및 저장\n",
    "    housing_redevelopment = data[data['사업구분'] == '재개발(주택정비형)']\n",
    "    housing_redevelopment.to_csv('재개발_주택정비형.csv', index=False, encoding='utf-8-sig')\n",
    "    print(\"저장 완료: 재개발_주택정비형.csv\")\n",
    "else:\n",
    "    print(\"'사업구분' 컬럼이 데이터에 없습니다. CSV 파일 구조를 확인하세요.\")\n"
   ]
  },
  {
   "cell_type": "code",
   "execution_count": 61,
   "id": "49e791df",
   "metadata": {},
   "outputs": [
    {
     "data": {
      "text/plain": [
       "Index(['사업번호', '자치구', '법정동', '사업구분', '운영구분', '추진위원회/조합명', '대표지번', '진행단계', '상태',\n",
       "       '토지등 소유자 수', '정비구역명칭', '정비구역위치', '정비구역면적(㎡)', '건축연면적(㎡)', '용도지역',\n",
       "       '용도지구', '택지면적(㎡)', '도로면적(㎡)', '공원면적(㎡)', '녹지면적(㎡)', '공공공지면적(㎡)',\n",
       "       '학교면적(㎡)', '기타면적(㎡)', '주용도', '건폐율', '용적률', '높이(m)', '지상층수', '지하층수',\n",
       "       '분양세대총수', '60㎡이하', '60㎡초과~85㎡이하', '85㎡초과', '임대세대총수', '(임대)40㎡이하',\n",
       "       '(임대)40㎡초과~50㎡이하', '(임대)50㎡초과', '건축계획비고'],\n",
       "      dtype='object')"
      ]
     },
     "execution_count": 61,
     "metadata": {},
     "output_type": "execute_result"
    }
   ],
   "source": [
    "import pandas as pd\n",
    "\n",
    "df = pd.read_csv('서울시_재개발_도시정비형.csv')\n",
    "df.columns"
   ]
  },
  {
   "cell_type": "markdown",
   "id": "d8c6ce09",
   "metadata": {},
   "source": [
    "자치구별 파일 저장"
   ]
  },
  {
   "cell_type": "code",
   "execution_count": 63,
   "id": "697679f2",
   "metadata": {},
   "outputs": [
    {
     "name": "stdout",
     "output_type": "stream",
     "text": [
      "저장 완료: 강동구_재개발_주택정비형.csv\n",
      "저장 완료: 강북구_재개발_주택정비형.csv\n",
      "저장 완료: 강서구_재개발_주택정비형.csv\n",
      "저장 완료: 관악구_재개발_주택정비형.csv\n",
      "저장 완료: 광진구_재개발_주택정비형.csv\n",
      "저장 완료: 구로구_재개발_주택정비형.csv\n",
      "저장 완료: 금천구_재개발_주택정비형.csv\n",
      "저장 완료: 노원구_재개발_주택정비형.csv\n",
      "저장 완료: 도봉구_재개발_주택정비형.csv\n",
      "저장 완료: 동대문구_재개발_주택정비형.csv\n",
      "저장 완료: 동작구_재개발_주택정비형.csv\n",
      "저장 완료: 마포구_재개발_주택정비형.csv\n",
      "저장 완료: 서대문구_재개발_주택정비형.csv\n",
      "저장 완료: 성동구_재개발_주택정비형.csv\n",
      "저장 완료: 성북구_재개발_주택정비형.csv\n",
      "저장 완료: 송파구_재개발_주택정비형.csv\n",
      "저장 완료: 양천구_재개발_주택정비형.csv\n",
      "저장 완료: 영등포구_재개발_주택정비형.csv\n",
      "저장 완료: 용산구_재개발_주택정비형.csv\n",
      "저장 완료: 은평구_재개발_주택정비형.csv\n",
      "저장 완료: 종로구_재개발_주택정비형.csv\n",
      "저장 완료: 중구_재개발_주택정비형.csv\n",
      "저장 완료: 중랑구_재개발_주택정비형.csv\n"
     ]
    }
   ],
   "source": [
    "import pandas as pd\n",
    "\n",
    "# CSV 파일 읽기\n",
    "file_name = '서울시_재개발_주택정비형.csv'\n",
    "data = pd.read_csv(file_name)\n",
    "\n",
    "# '자치구' 컬럼 확인\n",
    "if '자치구' in data.columns:\n",
    "    # 자치구별로 데이터를 그룹화\n",
    "    grouped = data.groupby('자치구')\n",
    "\n",
    "    # 각 자치구별로 데이터를 별도의 CSV 파일로 저장\n",
    "    for district, group in grouped:\n",
    "        output_file = f'{district}_재개발_주택정비형.csv'\n",
    "        group.to_csv(output_file, index=False, encoding='utf-8-sig')\n",
    "        print(f\"저장 완료: {output_file}\")\n",
    "else:\n",
    "    print(\"'자치구' 컬럼이 데이터에 없습니다. CSV 파일 구조를 확인하세요.\")\n"
   ]
  },
  {
   "cell_type": "code",
   "execution_count": null,
   "id": "1cb3d4fe",
   "metadata": {},
   "outputs": [],
   "source": []
  }
 ],
 "metadata": {
  "kernelspec": {
   "display_name": "Python 3",
   "language": "python",
   "name": "python3"
  },
  "language_info": {
   "codemirror_mode": {
    "name": "ipython",
    "version": 3
   },
   "file_extension": ".py",
   "mimetype": "text/x-python",
   "name": "python",
   "nbconvert_exporter": "python",
   "pygments_lexer": "ipython3",
   "version": "3.12.7"
  }
 },
 "nbformat": 4,
 "nbformat_minor": 5
}
